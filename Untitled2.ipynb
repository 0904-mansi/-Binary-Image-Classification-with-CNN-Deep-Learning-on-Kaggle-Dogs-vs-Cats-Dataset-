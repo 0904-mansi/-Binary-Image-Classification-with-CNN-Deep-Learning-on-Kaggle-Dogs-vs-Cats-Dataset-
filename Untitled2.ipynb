{
  "nbformat": 4,
  "nbformat_minor": 0,
  "metadata": {
    "colab": {
      "provenance": []
    },
    "kernelspec": {
      "name": "python3",
      "display_name": "Python 3"
    },
    "language_info": {
      "name": "python"
    },
    "accelerator": "GPU",
    "gpuClass": "standard"
  },
  "cells": [
    {
      "cell_type": "code",
      "execution_count": null,
      "metadata": {
        "id": "OlqPJKWDCILZ"
      },
      "outputs": [],
      "source": []
    },
    {
      "cell_type": "code",
      "source": [
        "##Setup Kaggel Api key and username to download the data\n",
        "## To learn how to use Kaggle API keys see our youtube tutorial: https://www.youtube.com/watch?v=dR9C-_EvaNM\n",
        "import os\n",
        "os.environ['KAGGLE_USERNAME'] = \"mansi0904\" # username from the json file\n",
        "os.environ['KAGGLE_KEY'] = \"a389bcb327ba56be3101da142465e857\" # Provide your key from the json file\n",
        "!kaggle competitions download -c dogs-vs-cats # api copied from kaggle\n"
      ],
      "metadata": {
        "colab": {
          "base_uri": "https://localhost:8080/"
        },
        "id": "_EKKnQoWCO22",
        "outputId": "5245038e-9094-4fdf-e6a5-5375a5d073c8"
      },
      "execution_count": 2,
      "outputs": [
        {
          "output_type": "stream",
          "name": "stdout",
          "text": [
            "Downloading dogs-vs-cats.zip to /content\n",
            " 99% 801M/812M [00:17<00:00, 47.7MB/s]\n",
            "100% 812M/812M [00:17<00:00, 47.5MB/s]\n"
          ]
        }
      ]
    },
    {
      "cell_type": "code",
      "source": [
        "# Upload data and extract the contents\n",
        "from zipfile import ZipFile\n",
        "\n",
        "file_name = \"/content/train.zip\"\n",
        "\n",
        "with ZipFile(file_name, 'r') as zip:\n",
        "  zip.extractall()\n",
        "  print('done')"
      ],
      "metadata": {
        "colab": {
          "base_uri": "https://localhost:8080/"
        },
        "id": "CCDNsy4gCWLX",
        "outputId": "4ce09df5-09eb-4ae8-833b-922ee3bb1d87"
      },
      "execution_count": 8,
      "outputs": [
        {
          "output_type": "stream",
          "name": "stdout",
          "text": [
            "done\n"
          ]
        }
      ]
    },
    {
      "cell_type": "code",
      "source": [
        "\n",
        "\n",
        "data_dir_list = os.listdir('/content/train')\n",
        "#print(data_dir_list)\n",
        "\n",
        "path, dirs, files = next(os.walk(\"/content/train\"))\n",
        "file_count = len(files)\n",
        "print(file_count)\n",
        "\n",
        "\n",
        "\n",
        "original_dataset_dir = '/content/train'\n",
        "base_dir = '/content/cats_and_dogs_small'\n",
        "os.mkdir(base_dir) #make base directory\n",
        "\n",
        "\n"
      ],
      "metadata": {
        "colab": {
          "base_uri": "https://localhost:8080/"
        },
        "id": "34Jwt-uKDFx_",
        "outputId": "894aa9e1-15c7-43da-ffca-b4b6dd5764be"
      },
      "execution_count": 10,
      "outputs": [
        {
          "output_type": "stream",
          "name": "stdout",
          "text": [
            "25000\n"
          ]
        }
      ]
    },
    {
      "cell_type": "code",
      "source": [
        "#Create directory paths\n",
        "\n",
        "train_dir = os.path.join(base_dir, 'train')\n",
        "os.mkdir(train_dir)\n",
        "\n",
        "validation_dir = os.path.join(base_dir, 'validation')\n",
        "os.mkdir(validation_dir)\n",
        "\n",
        "test_dir = os.path.join(base_dir, 'test')\n",
        "os.mkdir(test_dir)\n",
        "\n",
        "train_cats_dir = os.path.join(train_dir, 'cats')\n",
        "os.mkdir(train_cats_dir)\n",
        "\n",
        "train_dogs_dir = os.path.join(train_dir, 'dogs')\n",
        "os.mkdir(train_dogs_dir)\n",
        "\n",
        "validation_cats_dir = os.path.join(validation_dir, 'cats')\n",
        "os.mkdir(validation_cats_dir)\n",
        "\n",
        "validation_dogs_dir = os.path.join(validation_dir, 'dogs')\n",
        "os.mkdir(validation_dogs_dir)\n",
        "\n",
        "test_cats_dir = os.path.join(test_dir, 'cats')\n",
        "os.mkdir(test_cats_dir)\n",
        "\n",
        "test_dogs_dir = os.path.join(test_dir, 'dogs')\n",
        "os.mkdir(test_dogs_dir)"
      ],
      "metadata": {
        "id": "i6NHbynDDuIX"
      },
      "execution_count": 11,
      "outputs": []
    },
    {
      "cell_type": "code",
      "source": [
        "import shutil\n",
        "\n",
        "# def createFName(org_data_dir, train_data_class_dir, rangeInput1, rangeInput2):\n",
        "#     \"This funciton is to create the source and desitnation paths and copy the data.\"\n",
        "#     fnames = ['cat.{}.jpg'.format(i) for i in range(rangeInput1,rangeInput2)]\n",
        "#     for fname in fnames:\n",
        "#         src = os.path.join(org_data_dir, fname)\n",
        "#         dst = os.path.join(train_data_class_dir, fname)\n",
        "#         #print(src,dst)\n",
        "#         shutil.copyfile(src, dst)\n",
        "\n",
        "# createFName(original_dataset_dir,train_cats_dir,0,1000)\n",
        "# createFName(original_dataset_dir,validation_cats_dir,1000,1500)\n",
        "# createFName(original_dataset_dir,test_cats_dir,1500,2000)\n",
        "\n",
        "# createFName(original_dataset_dir,train_dogs_dir,0,1000)\n",
        "# createFName(original_dataset_dir,validation_dogs_dir,1000,1500)\n",
        "# createFName(original_dataset_dir,test_dogs_dir,1500,2000)\n",
        "\n",
        "fnames = ['cat.{}.jpg'.format(i) for i in range(1000)]\n",
        "for fname in fnames:\n",
        "    src = os.path.join(original_dataset_dir, fname)\n",
        "    dst = os.path.join(train_cats_dir, fname)\n",
        "    #print(src,dst)\n",
        "    shutil.copyfile(src, dst)\n",
        "    \n",
        "fnames = ['cat.{}.jpg'.format(i) for i in range(1000, 1500)]\n",
        "for fname in fnames:\n",
        "    src = os.path.join(original_dataset_dir, fname)\n",
        "    dst = os.path.join(validation_cats_dir, fname)\n",
        "    shutil.copyfile(src, dst)\n",
        "\n",
        "fnames = ['cat.{}.jpg'.format(i) for i in range(1500, 2000)]\n",
        "for fname in fnames:\n",
        "    src = os.path.join(original_dataset_dir, fname)\n",
        "    dst = os.path.join(test_cats_dir, fname)\n",
        "    shutil.copyfile(src, dst)\n",
        "    \n",
        "fnames = ['dog.{}.jpg'.format(i) for i in range(1000)]\n",
        "for fname in fnames:\n",
        "    src = os.path.join(original_dataset_dir, fname)\n",
        "    dst = os.path.join(train_dogs_dir, fname)\n",
        "    shutil.copyfile(src, dst)\n",
        "\n",
        "fnames = ['dog.{}.jpg'.format(i) for i in range(1000, 1500)]\n",
        "for fname in fnames:\n",
        "    src = os.path.join(original_dataset_dir, fname)\n",
        "    dst = os.path.join(validation_dogs_dir, fname)\n",
        "    shutil.copyfile(src, dst)\n",
        "\n",
        "fnames = ['dog.{}.jpg'.format(i) for i in range(1500, 2000)]\n",
        "for fname in fnames:\n",
        "    src = os.path.join(original_dataset_dir, fname)\n",
        "    dst = os.path.join(test_dogs_dir, fname)\n",
        "    shutil.copyfile(src, dst)"
      ],
      "metadata": {
        "id": "pUn4BHdNFFxc"
      },
      "execution_count": 12,
      "outputs": []
    },
    {
      "cell_type": "code",
      "source": [
        "\n",
        "\n",
        "print('total training cat images:', len(os.listdir(train_cats_dir)))\n",
        "print('total training dog images:', len(os.listdir(train_dogs_dir)))\n",
        "print('total validation cat images:', len(os.listdir(validation_cats_dir)))\n",
        "\n",
        "print('total validation dog images:', len(os.listdir(validation_dogs_dir)))\n",
        "print('total test cat images:', len(os.listdir(test_cats_dir)))\n",
        "print('total test dog images:', len(os.listdir(test_dogs_dir)))\n",
        "\n"
      ],
      "metadata": {
        "colab": {
          "base_uri": "https://localhost:8080/"
        },
        "id": "aN4VB9y4FQwo",
        "outputId": "56f5c751-9355-4542-c63e-6427f8f5951e"
      },
      "execution_count": 13,
      "outputs": [
        {
          "output_type": "stream",
          "name": "stdout",
          "text": [
            "total training cat images: 1000\n",
            "total training dog images: 1000\n",
            "total validation cat images: 500\n",
            "total validation dog images: 500\n",
            "total test cat images: 500\n",
            "total test dog images: 500\n"
          ]
        }
      ]
    },
    {
      "cell_type": "code",
      "source": [
        "\n",
        "\n",
        "from keras import layers\n",
        "from keras import models\n",
        "\n",
        "#Created sequential models using Keras\n",
        "model = models.Sequential()\n",
        "model.add(layers.Conv2D(32, (3, 3), activation='relu', input_shape=(150, 150, 3)))\n",
        "model.add(layers.MaxPooling2D((2, 2)))\n",
        "model.add(layers.Conv2D(64, (3, 3), activation='relu'))\n",
        "model.add(layers.MaxPooling2D((2, 2)))\n",
        "model.add(layers.Conv2D(128, (3, 3), activation='relu'))\n",
        "model.add(layers.MaxPooling2D((2, 2)))\n",
        "model.add(layers.Conv2D(128, (3, 3), activation='relu'))\n",
        "model.add(layers.MaxPooling2D((2, 2)))\n",
        "model.add(layers.Flatten())\n",
        "model.add(layers.Dense(512, activation='relu'))\n",
        "model.add(layers.Dense(1, activation='sigmoid'))\n",
        "model.summary()\n",
        "\n"
      ],
      "metadata": {
        "colab": {
          "base_uri": "https://localhost:8080/"
        },
        "id": "Jhcxi-UUGNn5",
        "outputId": "b52abb68-17a9-4e57-e772-27ac567e75e1"
      },
      "execution_count": 14,
      "outputs": [
        {
          "output_type": "stream",
          "name": "stdout",
          "text": [
            "Model: \"sequential\"\n",
            "_________________________________________________________________\n",
            " Layer (type)                Output Shape              Param #   \n",
            "=================================================================\n",
            " conv2d (Conv2D)             (None, 148, 148, 32)      896       \n",
            "                                                                 \n",
            " max_pooling2d (MaxPooling2D  (None, 74, 74, 32)       0         \n",
            " )                                                               \n",
            "                                                                 \n",
            " conv2d_1 (Conv2D)           (None, 72, 72, 64)        18496     \n",
            "                                                                 \n",
            " max_pooling2d_1 (MaxPooling  (None, 36, 36, 64)       0         \n",
            " 2D)                                                             \n",
            "                                                                 \n",
            " conv2d_2 (Conv2D)           (None, 34, 34, 128)       73856     \n",
            "                                                                 \n",
            " max_pooling2d_2 (MaxPooling  (None, 17, 17, 128)      0         \n",
            " 2D)                                                             \n",
            "                                                                 \n",
            " conv2d_3 (Conv2D)           (None, 15, 15, 128)       147584    \n",
            "                                                                 \n",
            " max_pooling2d_3 (MaxPooling  (None, 7, 7, 128)        0         \n",
            " 2D)                                                             \n",
            "                                                                 \n",
            " flatten (Flatten)           (None, 6272)              0         \n",
            "                                                                 \n",
            " dense (Dense)               (None, 512)               3211776   \n",
            "                                                                 \n",
            " dense_1 (Dense)             (None, 1)                 513       \n",
            "                                                                 \n",
            "=================================================================\n",
            "Total params: 3,453,121\n",
            "Trainable params: 3,453,121\n",
            "Non-trainable params: 0\n",
            "_________________________________________________________________\n"
          ]
        }
      ]
    },
    {
      "cell_type": "code",
      "source": [
        "# from tensorflow import keras\n",
        "from tensorflow.keras import optimizers\n",
        "model.compile(loss='binary_crossentropy', \n",
        "              optimizer=optimizers.RMSprop(lr=1e-4),\n",
        "              metrics=['acc'])\n",
        "\n"
      ],
      "metadata": {
        "colab": {
          "base_uri": "https://localhost:8080/"
        },
        "id": "UeRx0iGwHpFd",
        "outputId": "be4e41b3-1882-43aa-909b-384e84b822de"
      },
      "execution_count": 15,
      "outputs": [
        {
          "output_type": "stream",
          "name": "stderr",
          "text": [
            "/usr/local/lib/python3.7/dist-packages/keras/optimizers/optimizer_v2/rmsprop.py:135: UserWarning: The `lr` argument is deprecated, use `learning_rate` instead.\n",
            "  super(RMSprop, self).__init__(name, **kwargs)\n"
          ]
        }
      ]
    },
    {
      "cell_type": "code",
      "source": [
        "from keras.preprocessing.image import ImageDataGenerator\n",
        "\n",
        "train_datagen = ImageDataGenerator(rescale=1./255)\n",
        "test_datagen = ImageDataGenerator(rescale=1./255)\n",
        "\n",
        "train_generator = train_datagen.flow_from_directory(train_dir,\n",
        "                                                    target_size=(150, 150), \n",
        "                                                    batch_size=20,\n",
        "                                                    class_mode='binary')\n",
        "\n",
        "validation_generator = test_datagen.flow_from_directory(validation_dir,\n",
        "                                                        target_size=(150, 150),\n",
        "                                                        batch_size=20,\n",
        "                                                        class_mode='binary')"
      ],
      "metadata": {
        "colab": {
          "base_uri": "https://localhost:8080/"
        },
        "id": "4Q7QG9dCHt8Z",
        "outputId": "7a303fb9-04de-40b9-8544-47c7b57c6ae4"
      },
      "execution_count": 16,
      "outputs": [
        {
          "output_type": "stream",
          "name": "stdout",
          "text": [
            "Found 2000 images belonging to 2 classes.\n",
            "Found 1000 images belonging to 2 classes.\n"
          ]
        }
      ]
    },
    {
      "cell_type": "code",
      "source": [
        "history = model.fit_generator(train_generator,\n",
        "                              steps_per_epoch=100,\n",
        "                              epochs=20,\n",
        "                              validation_data=validation_generator,\n",
        "                              validation_steps=10)"
      ],
      "metadata": {
        "colab": {
          "base_uri": "https://localhost:8080/"
        },
        "id": "kkdHdPBDIO_x",
        "outputId": "522eeaa6-3ee1-4b12-86a0-9dabba0aabec"
      },
      "execution_count": 17,
      "outputs": [
        {
          "output_type": "stream",
          "name": "stderr",
          "text": [
            "/usr/local/lib/python3.7/dist-packages/ipykernel_launcher.py:5: UserWarning: `Model.fit_generator` is deprecated and will be removed in a future version. Please use `Model.fit`, which supports generators.\n",
            "  \"\"\"\n"
          ]
        },
        {
          "output_type": "stream",
          "name": "stdout",
          "text": [
            "Epoch 1/20\n",
            "100/100 [==============================] - 16s 70ms/step - loss: 0.6889 - acc: 0.5290 - val_loss: 0.6564 - val_acc: 0.6750\n",
            "Epoch 2/20\n",
            "100/100 [==============================] - 7s 70ms/step - loss: 0.6631 - acc: 0.6085 - val_loss: 0.6544 - val_acc: 0.5900\n",
            "Epoch 3/20\n",
            "100/100 [==============================] - 7s 70ms/step - loss: 0.6192 - acc: 0.6635 - val_loss: 0.7139 - val_acc: 0.5450\n",
            "Epoch 4/20\n",
            "100/100 [==============================] - 7s 71ms/step - loss: 0.5792 - acc: 0.6990 - val_loss: 0.6303 - val_acc: 0.6250\n",
            "Epoch 5/20\n",
            "100/100 [==============================] - 7s 71ms/step - loss: 0.5450 - acc: 0.7260 - val_loss: 0.5731 - val_acc: 0.6750\n",
            "Epoch 6/20\n",
            "100/100 [==============================] - 7s 71ms/step - loss: 0.5133 - acc: 0.7425 - val_loss: 0.5974 - val_acc: 0.6750\n",
            "Epoch 7/20\n",
            "100/100 [==============================] - 7s 74ms/step - loss: 0.4834 - acc: 0.7580 - val_loss: 0.5572 - val_acc: 0.7100\n",
            "Epoch 8/20\n",
            "100/100 [==============================] - 7s 70ms/step - loss: 0.4563 - acc: 0.7840 - val_loss: 0.6836 - val_acc: 0.6750\n",
            "Epoch 9/20\n",
            "100/100 [==============================] - 7s 72ms/step - loss: 0.4356 - acc: 0.7830 - val_loss: 0.5893 - val_acc: 0.7350\n",
            "Epoch 10/20\n",
            "100/100 [==============================] - 7s 70ms/step - loss: 0.4154 - acc: 0.8165 - val_loss: 0.5751 - val_acc: 0.7150\n",
            "Epoch 11/20\n",
            "100/100 [==============================] - 7s 70ms/step - loss: 0.3892 - acc: 0.8265 - val_loss: 0.5924 - val_acc: 0.7000\n",
            "Epoch 12/20\n",
            "100/100 [==============================] - 7s 70ms/step - loss: 0.3641 - acc: 0.8405 - val_loss: 0.5352 - val_acc: 0.7450\n",
            "Epoch 13/20\n",
            "100/100 [==============================] - 7s 70ms/step - loss: 0.3460 - acc: 0.8540 - val_loss: 0.5133 - val_acc: 0.7350\n",
            "Epoch 14/20\n",
            "100/100 [==============================] - 7s 70ms/step - loss: 0.3249 - acc: 0.8675 - val_loss: 0.5489 - val_acc: 0.7500\n",
            "Epoch 15/20\n",
            "100/100 [==============================] - 7s 71ms/step - loss: 0.2945 - acc: 0.8800 - val_loss: 0.7096 - val_acc: 0.6750\n",
            "Epoch 16/20\n",
            "100/100 [==============================] - 7s 71ms/step - loss: 0.2775 - acc: 0.8900 - val_loss: 0.5733 - val_acc: 0.7650\n",
            "Epoch 17/20\n",
            "100/100 [==============================] - 7s 71ms/step - loss: 0.2544 - acc: 0.8955 - val_loss: 0.6058 - val_acc: 0.7200\n",
            "Epoch 18/20\n",
            "100/100 [==============================] - 7s 70ms/step - loss: 0.2342 - acc: 0.9050 - val_loss: 0.6641 - val_acc: 0.6950\n",
            "Epoch 19/20\n",
            "100/100 [==============================] - 7s 71ms/step - loss: 0.2116 - acc: 0.9195 - val_loss: 0.5689 - val_acc: 0.7550\n",
            "Epoch 20/20\n",
            "100/100 [==============================] - 7s 70ms/step - loss: 0.1866 - acc: 0.9295 - val_loss: 0.8965 - val_acc: 0.6150\n"
          ]
        }
      ]
    },
    {
      "cell_type": "code",
      "source": [
        "\n",
        "\n",
        "model.save('cats_and_dogs_small_1.h5')\n",
        "\n",
        "import matplotlib.pyplot as plt\n",
        "\n",
        "acc = history.history['acc']\n",
        "val_acc = history.history['val_acc']\n",
        "loss = history.history['loss']\n",
        "val_loss = history.history['val_loss']\n",
        "\n",
        "epochs = range(1, len(acc) + 1)\n",
        "\n",
        "plt.plot(epochs, acc, 'bo', label='Training acc')\n",
        "plt.plot(epochs, val_acc, 'b', label='Validation acc')\n",
        "plt.title('Training and validation accuracy')\n",
        "plt.legend()\n",
        "\n",
        "plt.figure()\n",
        "\n",
        "plt.plot(epochs, loss, 'bo', label='Training loss')\n",
        "plt.plot(epochs, val_loss, 'b', label='Validation loss')\n",
        "plt.title('Training and validation loss')\n",
        "plt.legend()\n",
        "\n",
        "plt.show()\n",
        "\n"
      ],
      "metadata": {
        "colab": {
          "base_uri": "https://localhost:8080/",
          "height": 545
        },
        "id": "yUGnFaCfI1nF",
        "outputId": "d2ed2f86-9e3e-4ca7-b1fc-451246b85d9e"
      },
      "execution_count": 19,
      "outputs": [
        {
          "output_type": "display_data",
          "data": {
            "text/plain": [
              "<Figure size 432x288 with 1 Axes>"
            ],
            "image/png": "[encoded data removed]"
          },
          "metadata": {
            "needs_background": "light"
          }
        },
        {
          "output_type": "display_data",
          "data": {
            "text/plain": [
              "<Figure size 432x288 with 1 Axes>"
            ],
            "image/png": "[encoded data removed]"
          },
          "metadata": {
            "needs_background": "light"
          }
        }
      ]
    },
    {
      "cell_type": "code",
      "source": [
        "model = models.Sequential()\n",
        "model.add(layers.Conv2D(32, (3, 3), activation='relu',\n",
        "input_shape=(150, 150, 3)))\n",
        "model.add(layers.MaxPooling2D((2, 2)))\n",
        "model.add(layers.Conv2D(64, (3, 3), activation='relu'))\n",
        "model.add(layers.MaxPooling2D((2, 2)))\n",
        "model.add(layers.Conv2D(128, (3, 3), activation='relu'))\n",
        "model.add(layers.MaxPooling2D((2, 2)))\n",
        "model.add(layers.Conv2D(128, (3, 3), activation='relu'))\n",
        "model.add(layers.MaxPooling2D((2, 2)))\n",
        "model.add(layers.Flatten())\n",
        "model.add(layers.Dropout(0.5))\n",
        "model.add(layers.Dense(512, activation='relu'))\n",
        "model.add(layers.Dense(1, activation='sigmoid'))\n",
        "\n",
        "model.compile(loss='binary_crossentropy',\n",
        "              optimizer=optimizers.RMSprop(lr=1e-4),\n",
        "              metrics=['acc'])"
      ],
      "metadata": {
        "id": "vLwVMxt6MS5W"
      },
      "execution_count": 20,
      "outputs": []
    },
    {
      "cell_type": "code",
      "source": [
        "\n",
        "\n",
        "train_datagen = ImageDataGenerator(rescale=1./255,\n",
        "                                   rotation_range=40,\n",
        "                                   width_shift_range=0.2,\n",
        "                                   height_shift_range=0.2,\n",
        "                                   shear_range=0.2,\n",
        "                                   zoom_range=0.2,\n",
        "                                   horizontal_flip=True,)\n",
        "\n",
        "test_datagen = ImageDataGenerator(rescale=1./255)\n",
        "\n",
        "train_generator = train_datagen.flow_from_directory(train_dir,\n",
        "                                                    target_size=(150, 150),\n",
        "                                                    batch_size=20,\n",
        "                                                    class_mode='binary')\n",
        "\n",
        "validation_generator = test_datagen.flow_from_directory(validation_dir,\n",
        "                                                        target_size=(150, 150),\n",
        "                                                        batch_size=20,\n",
        "                                                        class_mode='binary')\n",
        "\n",
        "history = model.fit_generator(train_generator,\n",
        "                              steps_per_epoch=100,\n",
        "                              epochs=20,\n",
        "                              validation_data=validation_generator,\n",
        "                              validation_steps=10)\n",
        "\n"
      ],
      "metadata": {
        "colab": {
          "base_uri": "https://localhost:8080/"
        },
        "id": "OZv0iWwyMXkS",
        "outputId": "2f4183e9-1039-4b7a-82e3-83bc8797c75b"
      },
      "execution_count": 21,
      "outputs": [
        {
          "output_type": "stream",
          "name": "stdout",
          "text": [
            "Found 2000 images belonging to 2 classes.\n",
            "Found 1000 images belonging to 2 classes.\n",
            "Epoch 1/20\n"
          ]
        },
        {
          "output_type": "stream",
          "name": "stderr",
          "text": [
            "/usr/local/lib/python3.7/dist-packages/ipykernel_launcher.py:25: UserWarning: `Model.fit_generator` is deprecated and will be removed in a future version. Please use `Model.fit`, which supports generators.\n"
          ]
        },
        {
          "output_type": "stream",
          "name": "stdout",
          "text": [
            "100/100 [==============================] - 16s 155ms/step - loss: 0.6901 - acc: 0.5305 - val_loss: 0.6763 - val_acc: 0.6300\n",
            "Epoch 2/20\n",
            "100/100 [==============================] - 16s 162ms/step - loss: 0.6864 - acc: 0.5530 - val_loss: 0.6717 - val_acc: 0.5800\n",
            "Epoch 3/20\n",
            "100/100 [==============================] - 15s 152ms/step - loss: 0.6814 - acc: 0.5570 - val_loss: 0.6563 - val_acc: 0.6100\n",
            "Epoch 4/20\n",
            "100/100 [==============================] - 15s 152ms/step - loss: 0.6732 - acc: 0.5860 - val_loss: 0.6560 - val_acc: 0.6250\n",
            "Epoch 5/20\n",
            "100/100 [==============================] - 15s 155ms/step - loss: 0.6670 - acc: 0.5985 - val_loss: 0.6445 - val_acc: 0.6300\n",
            "Epoch 6/20\n",
            "100/100 [==============================] - 15s 154ms/step - loss: 0.6555 - acc: 0.6060 - val_loss: 0.6100 - val_acc: 0.6700\n",
            "Epoch 7/20\n",
            "100/100 [==============================] - 15s 154ms/step - loss: 0.6329 - acc: 0.6420 - val_loss: 0.6059 - val_acc: 0.6850\n",
            "Epoch 8/20\n",
            "100/100 [==============================] - 15s 153ms/step - loss: 0.6184 - acc: 0.6565 - val_loss: 0.6179 - val_acc: 0.6600\n",
            "Epoch 9/20\n",
            "100/100 [==============================] - 15s 153ms/step - loss: 0.6230 - acc: 0.6435 - val_loss: 0.5828 - val_acc: 0.7050\n",
            "Epoch 10/20\n",
            "100/100 [==============================] - 15s 151ms/step - loss: 0.6058 - acc: 0.6795 - val_loss: 0.5993 - val_acc: 0.6700\n",
            "Epoch 11/20\n",
            "100/100 [==============================] - 15s 154ms/step - loss: 0.5929 - acc: 0.6735 - val_loss: 0.5281 - val_acc: 0.7200\n",
            "Epoch 12/20\n",
            "100/100 [==============================] - 16s 155ms/step - loss: 0.5934 - acc: 0.6885 - val_loss: 0.5385 - val_acc: 0.7350\n",
            "Epoch 13/20\n",
            "100/100 [==============================] - 15s 154ms/step - loss: 0.5901 - acc: 0.6890 - val_loss: 0.5410 - val_acc: 0.7350\n",
            "Epoch 14/20\n",
            "100/100 [==============================] - 16s 162ms/step - loss: 0.5803 - acc: 0.6950 - val_loss: 0.5397 - val_acc: 0.7450\n",
            "Epoch 15/20\n",
            "100/100 [==============================] - 15s 153ms/step - loss: 0.5781 - acc: 0.7005 - val_loss: 0.5580 - val_acc: 0.7150\n",
            "Epoch 16/20\n",
            "100/100 [==============================] - 15s 153ms/step - loss: 0.5685 - acc: 0.7095 - val_loss: 0.6572 - val_acc: 0.6450\n",
            "Epoch 17/20\n",
            "100/100 [==============================] - 15s 154ms/step - loss: 0.5687 - acc: 0.7005 - val_loss: 0.5126 - val_acc: 0.7250\n",
            "Epoch 18/20\n",
            "100/100 [==============================] - 15s 152ms/step - loss: 0.5585 - acc: 0.7165 - val_loss: 0.5471 - val_acc: 0.7300\n",
            "Epoch 19/20\n",
            "100/100 [==============================] - 15s 152ms/step - loss: 0.5589 - acc: 0.7145 - val_loss: 0.5416 - val_acc: 0.7050\n",
            "Epoch 20/20\n",
            "100/100 [==============================] - 15s 151ms/step - loss: 0.5468 - acc: 0.7135 - val_loss: 0.5338 - val_acc: 0.7200\n"
          ]
        }
      ]
    },
    {
      "cell_type": "code",
      "source": [
        "\n",
        "\n",
        "acc = history.history['acc']\n",
        "val_acc = history.history['val_acc']\n",
        "loss = history.history['loss']\n",
        "val_loss = history.history['val_loss']\n",
        "\n",
        "epochs = range(1, len(acc) + 1)\n",
        "\n",
        "plt.plot(epochs, acc, 'bo', label='Training acc')\n",
        "plt.plot(epochs, val_acc, 'b', label='Validation acc')\n",
        "plt.title('Training and validation accuracy')\n",
        "plt.legend()\n",
        "\n",
        "plt.figure()\n",
        "\n",
        "plt.plot(epochs, loss, 'bo', label='Training loss')\n",
        "plt.plot(epochs, val_loss, 'b', label='Validation loss')\n",
        "plt.title('Training and validation loss')\n",
        "plt.legend()\n",
        "\n",
        "plt.show()\n",
        "\n"
      ],
      "metadata": {
        "colab": {
          "base_uri": "https://localhost:8080/",
          "height": 545
        },
        "id": "U7QMc8LSVniP",
        "outputId": "7387029a-e879-40a1-a06e-e9f6fa7d7a10"
      },
      "execution_count": 22,
      "outputs": [
        {
          "output_type": "display_data",
          "data": {
            "text/plain": [
              "<Figure size 432x288 with 1 Axes>"
            ],
            "image/png": "[encoded data removed]"
          },
          "metadata": {
            "needs_background": "light"
          }
        },
        {
          "output_type": "display_data",
          "data": {
            "text/plain": [
              "<Figure size 432x288 with 1 Axes>"
            ],
            "image/png": "[encoded data removed]"
          },
          "metadata": {
            "needs_background": "light"
          }
        }
      ]
    },
    {
      "cell_type": "code",
      "source": [],
      "metadata": {
        "id": "JaPhQmWMVpxd"
      },
      "execution_count": null,
      "outputs": []
    }
  ]
}